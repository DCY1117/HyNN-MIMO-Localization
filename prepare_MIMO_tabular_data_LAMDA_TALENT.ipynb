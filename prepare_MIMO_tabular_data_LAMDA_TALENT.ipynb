{
 "cells": [
  {
   "cell_type": "code",
   "execution_count": 2,
   "metadata": {},
   "outputs": [],
   "source": [
    "import pandas as pd"
   ]
  },
  {
   "cell_type": "code",
   "execution_count": 3,
   "metadata": {},
   "outputs": [],
   "source": [
    "from sklearn.model_selection import train_test_split"
   ]
  },
  {
   "cell_type": "code",
   "execution_count": 4,
   "metadata": {},
   "outputs": [],
   "source": [
    "import random\n",
    "import numpy as np\n",
    "import torch\n",
    "import os\n",
    "\n",
    "SEED = 64\n",
    "# SET RANDOM SEED FOR REPRODUCIBILITY\n",
    "torch.manual_seed(SEED)\n",
    "random.seed(SEED)\n",
    "np.random.seed(SEED)"
   ]
  },
  {
   "cell_type": "code",
   "execution_count": 7,
   "metadata": {},
   "outputs": [],
   "source": [
    "def save_dataset_splits(name):\n",
    "    # Load the full CSV dataset\n",
    "    df = pd.read_csv(f\"ultra_dense/datasets/{name}.csv\")\n",
    "\n",
    "    # Split into train, val, and test\n",
    "    X_train, X_val = train_test_split(df, test_size=0.15, random_state=SEED)\n",
    "    X_val, X_test = train_test_split(X_val, test_size=1/3, random_state=SEED)\n",
    "\n",
    "    # Reset index\n",
    "    X_train = X_train.reset_index(drop=True)\n",
    "    X_val = X_val.reset_index(drop=True)\n",
    "    X_test = X_test.reset_index(drop=True)\n",
    "\n",
    "    # Extract labels (last two columns)\n",
    "    y_train_X = X_train.iloc[:, -2]\n",
    "    y_val_X = X_val.iloc[:, -2]\n",
    "    y_test_X = X_test.iloc[:, -2]\n",
    "\n",
    "    y_train_Y = X_train.iloc[:, -1]\n",
    "    y_val_Y = X_val.iloc[:, -1]\n",
    "    y_test_Y = X_test.iloc[:, -1]\n",
    "\n",
    "    # Remove labels from feature sets\n",
    "    X_train = X_train.iloc[:, :-2]\n",
    "    X_val = X_val.iloc[:, :-2]\n",
    "    X_test = X_test.iloc[:, :-2]\n",
    "\n",
    "    # Make sure the output folder exists\n",
    "    os.makedirs(f\"{name}_X\", exist_ok=True)\n",
    "    os.makedirs(f\"{name}_Y\", exist_ok=True)\n",
    "\n",
    "    # Save to .npy files\n",
    "    def save_as_npy_X(data, filename):\n",
    "        npy_file = os.path.join(f\"{name}_X\", f\"{filename}.npy\")\n",
    "        if hasattr(data, \"to_numpy\"):\n",
    "            data = data.to_numpy()\n",
    "        np.save(npy_file, data)\n",
    "\n",
    "    def save_as_npy_Y(data, filename):\n",
    "        npy_file = os.path.join(f\"{name}_Y\", f\"{filename}.npy\")\n",
    "        if hasattr(data, \"to_numpy\"):\n",
    "            data = data.to_numpy()\n",
    "        np.save(npy_file, data)\n",
    "\n",
    "    save_as_npy_X(X_train, \"N_train\")\n",
    "    save_as_npy_X(X_val, \"N_val\")\n",
    "    save_as_npy_X(X_test, \"N_test\")\n",
    "\n",
    "    save_as_npy_X(y_train_X, \"y_train\")\n",
    "    save_as_npy_X(y_val_X, \"y_val\")\n",
    "    save_as_npy_X(y_test_X, \"y_test\")\n",
    "\n",
    "    save_as_npy_Y(X_train, \"N_train\")\n",
    "    save_as_npy_Y(X_val, \"N_val\")\n",
    "    save_as_npy_Y(X_test, \"N_test\")\n",
    "\n",
    "    save_as_npy_Y(y_train_Y, \"y_train\")\n",
    "    save_as_npy_Y(y_val_Y, \"y_val\")\n",
    "    save_as_npy_Y(y_test_Y, \"y_test\")"
   ]
  },
  {
   "cell_type": "code",
   "execution_count": 8,
   "metadata": {},
   "outputs": [],
   "source": [
    "save_dataset_splits(name=\"DIS_lab_LoS_8\")"
   ]
  },
  {
   "cell_type": "code",
   "execution_count": 9,
   "metadata": {},
   "outputs": [],
   "source": [
    "save_dataset_splits(name=\"DIS_lab_LoS_16\")"
   ]
  },
  {
   "cell_type": "code",
   "execution_count": null,
   "metadata": {},
   "outputs": [],
   "source": [
    "save_dataset_splits(name=\"ULA_lab_LoS_16\")"
   ]
  },
  {
   "cell_type": "code",
   "execution_count": null,
   "metadata": {},
   "outputs": [],
   "source": [
    "save_dataset_splits(name=\"ULA_lab_LoS_8\")"
   ]
  },
  {
   "cell_type": "code",
   "execution_count": null,
   "metadata": {},
   "outputs": [],
   "source": [
    "save_dataset_splits(name=\"URA_lab_LoS_16\")"
   ]
  },
  {
   "cell_type": "code",
   "execution_count": null,
   "metadata": {},
   "outputs": [],
   "source": [
    "save_dataset_splits(name=\"URA_lab_LoS_8\")"
   ]
  }
 ],
 "metadata": {
  "kernelspec": {
   "display_name": "Python 3 (ipykernel)",
   "language": "python",
   "name": "python3"
  },
  "language_info": {
   "codemirror_mode": {
    "name": "ipython",
    "version": 3
   },
   "file_extension": ".py",
   "mimetype": "text/x-python",
   "name": "python",
   "nbconvert_exporter": "python",
   "pygments_lexer": "ipython3",
   "version": "3.10.6"
  }
 },
 "nbformat": 4,
 "nbformat_minor": 4
}
