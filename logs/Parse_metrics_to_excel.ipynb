{
 "cells": [
  {
   "cell_type": "code",
   "execution_count": 1,
   "id": "e54746bc",
   "metadata": {},
   "outputs": [
    {
     "name": "stdout",
     "output_type": "stream",
     "text": [
      "Collecting openpyxl\n",
      "  Using cached openpyxl-3.1.5-py2.py3-none-any.whl.metadata (2.5 kB)\n",
      "Collecting et-xmlfile (from openpyxl)\n",
      "  Using cached et_xmlfile-2.0.0-py3-none-any.whl.metadata (2.7 kB)\n",
      "Using cached openpyxl-3.1.5-py2.py3-none-any.whl (250 kB)\n",
      "Using cached et_xmlfile-2.0.0-py3-none-any.whl (18 kB)\n",
      "Installing collected packages: et-xmlfile, openpyxl\n",
      "Successfully installed et-xmlfile-2.0.0 openpyxl-3.1.5\n"
     ]
    }
   ],
   "source": [
    "!pip install openpyxl"
   ]
  },
  {
   "cell_type": "code",
   "execution_count": 2,
   "id": "7205a333-4cb3-445f-939d-33e9627b422f",
   "metadata": {},
   "outputs": [],
   "source": [
    "import os\n",
    "import re\n",
    "import ast\n",
    "import pandas as pd\n",
    "\n",
    "def parse_metrics(file_path):\n",
    "    with open(file_path, 'r', encoding='utf-8') as f:\n",
    "        content = f.read()\n",
    "\n",
    "    folder_name = os.path.basename(os.path.dirname(file_path))\n",
    "    metrics = {\n",
    "        \"Folder\": folder_name,\n",
    "        \"Path\": file_path,\n",
    "    }\n",
    "\n",
    "    regex_patterns = {\n",
    "        \"train_loss\": r\"train_loss:\\s*([^\\n]+)\",\n",
    "        \"train_mse\": r\"train_mse:\\s*([^\\n]+)\",\n",
    "        \"train_mae\": r\"train_mae:\\s*([^\\n]+)\",\n",
    "        \"train_rmse\": r\"train_rmse:\\s*([^\\n]+)\",\n",
    "        \"train_r2\": r\"train_r2:\\s*([^\\n]+)\",\n",
    "        \"val_loss\": r\"val_loss:\\s*([^\\n]+)\",\n",
    "        \"val_mse\": r\"val_mse:\\s*([^\\n]+)\",\n",
    "        \"val_mae\": r\"val_mae:\\s*([^\\n]+)\",\n",
    "        \"val_rmse\": r\"val_rmse:\\s*([^\\n]+)\",\n",
    "        \"val_r2\": r\"val_r2:\\s*([^\\n]+)\",\n",
    "        \"test_loss\": r\"test_loss:\\s*([^\\n]+)\",\n",
    "        \"test_mse\": r\"test_mse:\\s*([^\\n]+)\",\n",
    "        \"test_mae\": r\"test_mae:\\s*([^\\n]+)\",\n",
    "        \"test_rmse\": r\"test_rmse:\\s*([^\\n]+)\",\n",
    "        \"test_r2\": r\"test_r2:\\s*([^\\n]+)\",\n",
    "        \"min_lr\": r\"min_lr:\\s*([^\\n]+)\",\n",
    "        \"max_lr\": r\"max_lr:\\s*([^\\n]+)\",\n",
    "        \"total_time\": r\"total_time:\\s*([^\\n]+)\",\n",
    "        \"average_epoch_time\": r\"average_epoch_time:\\s*([^\\n]+)\",\n",
    "    }\n",
    "\n",
    "    for key, pattern in regex_patterns.items():\n",
    "        match = re.search(pattern, content)\n",
    "        if match:\n",
    "            value = match.group(1).strip()\n",
    "            try:\n",
    "                value = ast.literal_eval(value)\n",
    "            except:\n",
    "                pass\n",
    "            metrics[key] = value\n",
    "        else:\n",
    "            metrics[key] = None\n",
    "\n",
    "    return metrics\n",
    "\n",
    "def find_and_parse_metrics(root_folder):\n",
    "    metrics_list = []\n",
    "    for dirpath, _, filenames in os.walk(root_folder):\n",
    "        for filename in filenames:\n",
    "            if filename.lower() == \"metrics.txt\":\n",
    "                full_path = os.path.join(dirpath, filename)\n",
    "                metrics = parse_metrics(full_path)\n",
    "                metrics_list.append(metrics)\n",
    "    return metrics_list\n",
    "\n",
    "def save_to_excel(metrics_list, output_path=\"metrics_summary.xlsx\"):\n",
    "    df = pd.DataFrame(metrics_list)\n",
    "    df.to_excel(output_path, index=False)\n",
    "    print(f\"Saved {len(df)} entries to {output_path}\")\n"
   ]
  },
  {
   "cell_type": "code",
   "execution_count": 3,
   "id": "023970da-6573-4ff8-b052-ae0c5a708edd",
   "metadata": {},
   "outputs": [
    {
     "name": "stdout",
     "output_type": "stream",
     "text": [
      "Saved 102 entries to metrics_summary.xlsx\n"
     ]
    }
   ],
   "source": [
    "root_folder = \"./\"  # Change this to your root directory if needed\n",
    "metrics_list = find_and_parse_metrics(root_folder)\n",
    "save_to_excel(metrics_list)"
   ]
  }
 ],
 "metadata": {
  "kernelspec": {
   "display_name": "Test",
   "language": "python",
   "name": "python3"
  },
  "language_info": {
   "codemirror_mode": {
    "name": "ipython",
    "version": 3
   },
   "file_extension": ".py",
   "mimetype": "text/x-python",
   "name": "python",
   "nbconvert_exporter": "python",
   "pygments_lexer": "ipython3",
   "version": "3.11.10"
  }
 },
 "nbformat": 4,
 "nbformat_minor": 5
}
